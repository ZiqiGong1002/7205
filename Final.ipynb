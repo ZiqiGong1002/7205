{
 "cells": [
  {
   "cell_type": "code",
   "execution_count": 563,
   "id": "e9eaeb40-4969-4b5d-8b6c-7773a5305444",
   "metadata": {},
   "outputs": [
    {
     "name": "stdout",
     "output_type": "stream",
     "text": [
      "hello world\n"
     ]
    }
   ],
   "source": [
    "print(\"hello world\")"
   ]
  },
  {
   "cell_type": "code",
   "execution_count": 564,
   "id": "06c4dcdc-6189-417a-a3a2-4a1a08d8543c",
   "metadata": {},
   "outputs": [],
   "source": [
    "import numpy as np\n",
    "import pandas as pd\n",
    "from sklearn.svm import SVR\n",
    "from sklearn.model_selection import train_test_split\n",
    "from sklearn.preprocessing import StandardScaler\n",
    "from sklearn.metrics import mean_squared_error\n",
    "from sklearn.metrics import mean_squared_error, r2_score"
   ]
  },
  {
   "cell_type": "code",
   "execution_count": 565,
   "id": "704a3d59-b588-418b-a47c-3c05f27e9693",
   "metadata": {},
   "outputs": [],
   "source": [
    "df=pd.read_csv(\"listings.csv\")"
   ]
  },
  {
   "cell_type": "code",
   "execution_count": 566,
   "id": "eb3e1060-0840-4c20-a340-42974e8af9c7",
   "metadata": {},
   "outputs": [],
   "source": [
    "#df.head(10)"
   ]
  },
  {
   "cell_type": "code",
   "execution_count": 567,
   "id": "5afdf271-06d7-428c-a3cb-dd0322b4dcb0",
   "metadata": {},
   "outputs": [],
   "source": [
    "#for column in df.columns:\n",
    "#    print(column)"
   ]
  },
  {
   "cell_type": "code",
   "execution_count": 568,
   "id": "8e3118d5-8856-4074-988b-060934e67501",
   "metadata": {},
   "outputs": [
    {
     "name": "stdout",
     "output_type": "stream",
     "text": [
      "['description', 'neighborhood_overview', 'host_location', 'host_about', 'host_response_time', 'host_response_rate', 'host_acceptance_rate', 'host_is_superhost', 'host_neighbourhood', 'neighbourhood', 'neighbourhood_group_cleansed', 'calendar_updated', 'has_availability', 'license']\n",
      "0\n"
     ]
    }
   ],
   "source": [
    "df=df.dropna(subset=['latitude','longitude','bedrooms','beds','accommodates','availability_365','review_scores_rating','number_of_reviews','property_type','amenities'])\n",
    "null_counts = df.isnull().sum()\n",
    "\n",
    "# 筛选出含有 NaN 值的列名\n",
    "columns_with_nan = null_counts[null_counts > 0].index.tolist()\n",
    "# 对设施特征用 0 填充 NaN\n",
    "#amenity_columns = [col for col in df.columns if col.startswith('amenity_')]\n",
    "#df[amenity_columns] = df[amenity_columns].fillna(0)\n",
    "\n",
    "# 对其他类型的特征用中位数或均值填充 NaN\n",
    "other_columns_with_nan = ['latitude', 'longitude', 'bedrooms', 'beds', 'accommodates', 'availability_365', 'review_scores_rating', 'number_of_reviews']\n",
    "df[other_columns_with_nan] = df[other_columns_with_nan].fillna(df[other_columns_with_nan].median())\n",
    "print(columns_with_nan)\n",
    "print(X.isnull().sum().sum())"
   ]
  },
  {
   "cell_type": "code",
   "execution_count": 569,
   "id": "b3faf48a-d0b9-4796-b060-4504fe75ce6c",
   "metadata": {},
   "outputs": [],
   "source": [
    "#print(df.property_type.unique())\n",
    "#print(df.amenities.unique())"
   ]
  },
  {
   "cell_type": "code",
   "execution_count": 570,
   "id": "9acf1e5b-c3b5-47ff-9f64-aeb2d71f0977",
   "metadata": {},
   "outputs": [],
   "source": [
    "property_dummies = pd.get_dummies(df['property_type'], prefix='type')\n",
    "\n",
    "# 将新的独热编码的DataFrame附加回原始DataFrame\n",
    "df = df[df.columns.drop(list(df.filter(regex='type_')))]\n",
    "\n",
    "# 重新进行独热编码\n",
    "property_dummies = pd.get_dummies(df['property_type'], prefix='type')\n",
    "\n",
    "# 将新的独热编码的DataFrame附加回原始DataFrame\n",
    "df = pd.concat([df, property_dummies], axis=1)\n",
    "\n",
    "# 打印新的列名，验证是否正确添加\n",
    "#print([col for col in df.columns if col.startswith('type_')])\n",
    "#print(df.iloc[:, -20:])"
   ]
  },
  {
   "cell_type": "code",
   "execution_count": 571,
   "id": "5aa8e8ae-59bc-46f6-9ccb-48a608bc5d21",
   "metadata": {},
   "outputs": [],
   "source": [
    "import ast\n",
    "\n",
    "# 尝试解析字符串形式的列表，如果失败则返回空列表\n",
    "def parse_list(x):\n",
    "    try:\n",
    "        return ast.literal_eval(x)\n",
    "    except:\n",
    "        return []\n",
    "\n",
    "# 应用解析函数到每一行的 amenities 列\n",
    "df['amenities'] = df['amenities'].apply(parse_list)\n"
   ]
  },
  {
   "cell_type": "code",
   "execution_count": 572,
   "id": "45912415-5fc3-40a2-beb8-53ec713e0195",
   "metadata": {},
   "outputs": [],
   "source": [
    "from sklearn.preprocessing import MultiLabelBinarizer\n",
    "# 删除所有可能已存在的以 'amenity_' 开头的列（如果之前使用的是不同的前缀，请相应调整）\n",
    "df = df[df.columns.drop(list(df.filter(regex='amenity_')))]\n",
    "\n",
    "# 初始化 MultiLabelBinarizer\n",
    "mlb = MultiLabelBinarizer()\n",
    "\n",
    "# 对设施列表进行独热编码\n",
    "amenities_encoded = mlb.fit_transform(df['amenities'])\n",
    "amenities_df = pd.DataFrame(amenities_encoded, columns=[\"amenity_\" + cls for cls in mlb.classes_])\n",
    "\n",
    "# 将编码后的DataFrame附加回原始DataFrame\n",
    "#df = pd.concat([df, amenities_df], axis=1)\n",
    "# 可以选择删除原始的 amenities 列\n",
    "#df.drop('amenities', axis=1, inplace=True)\n"
   ]
  },
  {
   "cell_type": "code",
   "execution_count": 573,
   "id": "f3d715e1-626b-4653-bc9f-57f22c6a93ca",
   "metadata": {},
   "outputs": [],
   "source": [
    "import pandas as pd\n",
    "from sklearn.model_selection import train_test_split\n",
    "\n",
    "# 定义原始特征集X和目标变量y\n",
    "X = df[['latitude', 'longitude', 'bedrooms', 'beds', 'accommodates', 'availability_365', 'review_scores_rating', 'number_of_reviews']]\n",
    "y = df['price']\n",
    "y = y.str.replace('$', '', regex=False)  # 移除美元符号\n",
    "y = y.astype(float)  # 转换为浮点数】\n",
    "\n",
    "# 添加独热编码列到X\n",
    "type_columns = [col for col in df.columns if col.startswith('type_')]\n",
    "X = pd.concat([X, df[type_columns]], axis=1)\n",
    "X = pd.concat([X, df[amenities_df]], axis=1)\n"
   ]
  },
  {
   "cell_type": "code",
   "execution_count": 574,
   "id": "a351292a-d29d-4c37-ade0-e0345aceade1",
   "metadata": {},
   "outputs": [],
   "source": [
    "# 分割数据为训练集和测试集\n",
    "X_train, X_test, y_train, y_test = train_test_split(X, y, test_size=0.2, random_state=42)\n",
    "\n",
    "# 打印训练集中的y以验证\n",
    "#print(y_train)\n",
    "#print(X)"
   ]
  },
  {
   "cell_type": "code",
   "execution_count": 575,
   "id": "ad0d535d-b636-43c4-a83d-8a100a7f3237",
   "metadata": {},
   "outputs": [
    {
     "name": "stdout",
     "output_type": "stream",
     "text": [
      "30550\n"
     ]
    },
    {
     "name": "stderr",
     "output_type": "stream",
     "text": [
      "/Users/ziqi/miniconda3/lib/python3.12/site-packages/sklearn/utils/extmath.py:1137: RuntimeWarning: invalid value encountered in divide\n",
      "  updated_mean = (last_sum + new_sum) / updated_sample_count\n",
      "/Users/ziqi/miniconda3/lib/python3.12/site-packages/sklearn/utils/extmath.py:1142: RuntimeWarning: invalid value encountered in divide\n",
      "  T = new_sum / new_sample_count\n",
      "/Users/ziqi/miniconda3/lib/python3.12/site-packages/sklearn/utils/extmath.py:1162: RuntimeWarning: invalid value encountered in divide\n",
      "  new_unnormalized_variance -= correction**2 / new_sample_count\n"
     ]
    }
   ],
   "source": [
    "scaler = StandardScaler()\n",
    "X_train_scaled = scaler.fit_transform(X_train)\n",
    "X_test_scaled = scaler.transform(X_test)\n",
    "print(X.isnull().sum().sum())"
   ]
  },
  {
   "cell_type": "code",
   "execution_count": 560,
   "id": "95f63ac4-7ea9-4365-882d-b40e971e56b6",
   "metadata": {},
   "outputs": [],
   "source": [
    "df=df.dropna(subset=['latitude','longitude','bedrooms','beds','accommodates','availability_365','review_scores_rating','number_of_reviews','property_type'])\n",
    "#print(df)\n",
    "#print(X.isnull().sum().sum())"
   ]
  },
  {
   "cell_type": "code",
   "execution_count": 561,
   "id": "33b9b2ee-b1a3-469b-b3b4-8cc2cc5f5869",
   "metadata": {},
   "outputs": [
    {
     "name": "stdout",
     "output_type": "stream",
     "text": [
      "Mean Squared Error: 1078.0150535203356\n",
      "R-squared: 0.6221272513649027\n"
     ]
    }
   ],
   "source": [
    "svr_model = SVR(kernel='poly', C=100.0, epsilon=0.1)\n",
    "\n",
    "# 在标准化后的训练数据上训练SVR模型\n",
    "svr_model.fit(X_train_scaled, y_train)\n",
    "\n",
    "# 使用训练好的模型对标准化后的测试数据进行预测\n",
    "y_pred = svr_model.predict(X_test_scaled)\n",
    "\n",
    "# 计算并打印模型的性能指标\n",
    "mse = mean_squared_error(y_test, y_pred)\n",
    "r2 = r2_score(y_test, y_pred)\n",
    "\n",
    "print(f\"Mean Squared Error: {mse}\")\n",
    "print(f\"R-squared: {r2}\")\n"
   ]
  },
  {
   "cell_type": "code",
   "execution_count": 562,
   "id": "6545b805-a2e6-48c7-aa1b-8f321b148b39",
   "metadata": {},
   "outputs": [
    {
     "data": {
      "image/png": "[encoded data removed]",
      "text/plain": [
       "<Figure size 1000x600 with 1 Axes>"
      ]
     },
     "metadata": {},
     "output_type": "display_data"
    }
   ],
   "source": [
    "import matplotlib.pyplot as plt\n",
    "from sklearn.datasets import make_regression\n",
    "from sklearn.model_selection import train_test_split\n",
    "from sklearn.preprocessing import StandardScaler\n",
    "from sklearn.svm import SVR\n",
    "from sklearn.metrics import mean_squared_error, r2_score\n",
    "\n",
    "plt.figure(figsize=(10, 6))\n",
    "plt.scatter(X_test_scaled[:, 0], y_test, color='blue', label='Actual data')\n",
    "plt.scatter(X_test_scaled[:, 0], y_pred, color='red', label='Predicted data')\n",
    "plt.title('SVR Predictions vs Actual Data')\n",
    "plt.xlabel('Features')\n",
    "plt.ylabel('Target')\n",
    "plt.legend()\n",
    "plt.grid(True)\n",
    "plt.show()"
   ]
  },
  {
   "cell_type": "code",
   "execution_count": 544,
   "id": "4b80e506-ab33-4b32-a2e9-885fe851460c",
   "metadata": {},
   "outputs": [
    {
     "name": "stdout",
     "output_type": "stream",
     "text": [
      "MSE: 1508.3701865077642\n",
      "RMSE: 38.83774177919932\n",
      "MAE: 29.19243413484663\n",
      "R-squared: 0.4712764107758619\n",
      "Explained Variance Score: 0.49987317666258757\n"
     ]
    }
   ],
   "source": [
    "from sklearn.metrics import mean_squared_error, mean_absolute_error, r2_score, explained_variance_score\n",
    "mse = mean_squared_error(y_test, y_pred)\n",
    "rmse = np.sqrt(mse)\n",
    "mae = mean_absolute_error(y_test, y_pred)\n",
    "r2 = r2_score(y_test, y_pred)\n",
    "explained_variance = explained_variance_score(y_test, y_pred)\n",
    "\n",
    "print(\"MSE:\", mse)\n",
    "print(\"RMSE:\", rmse)\n",
    "print(\"MAE:\", mae)\n",
    "print(\"R-squared:\", r2)\n",
    "print(\"Explained Variance Score:\", explained_variance)\n"
   ]
  },
  {
   "cell_type": "code",
   "execution_count": null,
   "id": "adc6a829-9b7a-4f64-a5b9-3f7da34b8c67",
   "metadata": {},
   "outputs": [],
   "source": []
  },
  {
   "cell_type": "code",
   "execution_count": null,
   "id": "46620808-7074-4055-936f-c1b3e026629f",
   "metadata": {},
   "outputs": [],
   "source": []
  },
  {
   "cell_type": "code",
   "execution_count": null,
   "id": "e046ffcf-5c35-464b-aa63-ec50579c4787",
   "metadata": {},
   "outputs": [],
   "source": []
  },
  {
   "cell_type": "code",
   "execution_count": null,
   "id": "f1005258-d630-4b20-9d13-83887be9878c",
   "metadata": {},
   "outputs": [],
   "source": []
  }
 ],
 "metadata": {
  "kernelspec": {
   "display_name": "Python 3 (ipykernel)",
   "language": "python",
   "name": "python3"
  },
  "language_info": {
   "codemirror_mode": {
    "name": "ipython",
    "version": 3
   },
   "file_extension": ".py",
   "mimetype": "text/x-python",
   "name": "python",
   "nbconvert_exporter": "python",
   "pygments_lexer": "ipython3",
   "version": "3.12.1"
  }
 },
 "nbformat": 4,
 "nbformat_minor": 5
}
